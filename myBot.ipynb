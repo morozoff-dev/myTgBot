{
  "nbformat": 4,
  "nbformat_minor": 0,
  "metadata": {
    "colab": {
      "provenance": [],
      "include_colab_link": true
    },
    "kernelspec": {
      "name": "python3",
      "display_name": "Python 3"
    },
    "language_info": {
      "name": "python"
    }
  },
  "cells": [
    {
      "cell_type": "markdown",
      "metadata": {
        "id": "view-in-github",
        "colab_type": "text"
      },
      "source": [
        "<a href=\"https://colab.research.google.com/github/morozoff-dev/myTgBot/blob/main/myBot.ipynb\" target=\"_parent\"><img src=\"https://colab.research.google.com/assets/colab-badge.svg\" alt=\"Open In Colab\"/></a>"
      ]
    },
    {
      "cell_type": "markdown",
      "source": [
        "# prog:\n"
      ],
      "metadata": {
        "id": "ppsIrKbyJDTJ"
      }
    },
    {
      "cell_type": "code",
      "source": [
        "import random"
      ],
      "metadata": {
        "id": "jHwSOC-8InIo"
      },
      "execution_count": null,
      "outputs": []
    },
    {
      "cell_type": "code",
      "execution_count": null,
      "metadata": {
        "id": "ePQvZ6EHH75B"
      },
      "outputs": [],
      "source": [
        "text = input()\n",
        "if text in [\"Привет\", \"Здарова\", \"Хеллоу\"]:\n",
        "  print(random.choice([\"Здрасте\", \"Йоу\", \"Приветики\"]))\n",
        "elif text in [\"Пока\", \"Увидимся\", \"Чао\"]:\n",
        "  print(random.choice([\"Буду ждать нашей встречи\", \"Ок\", \"Бай-бай\"]))\n",
        "else:\n",
        "  print(\"Не понял\")\n"
      ]
    },
    {
      "cell_type": "code",
      "source": [
        "import re\n",
        "import nltk\n",
        "# filter_text - фильтрует текст\n",
        "# \"Привет\" => \"привет\"\n",
        "# \"привет !!! :)\" => \"привет\"\n",
        "# \"  привет  \" => \"привет\"\n",
        "def filter_text(text):\n",
        "    text = text.lower()  # lower - к нижнему регистру\n",
        "    text = text.strip()  # strip - вырезать пробелы с начала и конца строки\n",
        "    pattern = r\"[^\\w\\s]\" # Все что не слово и не пробел\n",
        "    text = re.sub(pattern, \"\", text) # Из переменной text вырезаем \"Все что не слово и не пробел\"\n",
        "    return text\n",
        "\n",
        "# True, если тексты похожи (user_text пользовательский текст, example - контрольная фраза)\n",
        "# False, если не похожи\n",
        "def text_match(user_text, example):\n",
        "    user_text = filter_text(user_text) # Отфильтруем лишнее из первой строки\n",
        "    example = filter_text(example) # Отфильтруем лишнее из  строки\n",
        "    if user_text == example: # Если тексты точно совпадают\n",
        "        return True\n",
        "    if user_text.find(example) != -1: # Если фраза входит в пользовательский текст\n",
        "        return True\n",
        "\n",
        "    distance = nltk.edit_distance(user_text, example)\n",
        "    # Отношение кол-ва ошибок к длине слова\n",
        "    ratio = distance / len(example)\n",
        "    if ratio < 0.40:\n",
        "        return True\n",
        "\n",
        "    return False"
      ],
      "metadata": {
        "id": "v68CYBmmMwwu"
      },
      "execution_count": null,
      "outputs": []
    },
    {
      "cell_type": "code",
      "source": [
        "# Тексты совпадают\n",
        "text_match(\"Привет\", \"Привет\")"
      ],
      "metadata": {
        "colab": {
          "base_uri": "https://localhost:8080/"
        },
        "id": "Y_v5venhNDey",
        "outputId": "5dfc079b-81ce-4a3d-803b-931e3b894218"
      },
      "execution_count": null,
      "outputs": [
        {
          "output_type": "execute_result",
          "data": {
            "text/plain": [
              "True"
            ]
          },
          "metadata": {},
          "execution_count": 5
        }
      ]
    },
    {
      "cell_type": "code",
      "source": [
        "# Разный регистр\n",
        "text_match(\"привет\", \"Привет\")"
      ],
      "metadata": {
        "colab": {
          "base_uri": "https://localhost:8080/"
        },
        "id": "mCkXZGN7NCxm",
        "outputId": "86f57858-eb1b-4903-c6d3-5b1b652f75cc"
      },
      "execution_count": null,
      "outputs": [
        {
          "output_type": "execute_result",
          "data": {
            "text/plain": [
              "True"
            ]
          },
          "metadata": {},
          "execution_count": 6
        }
      ]
    },
    {
      "cell_type": "code",
      "source": [
        "# Лишние символы\n",
        "text_match(\"Привет!!!\", \"Привет\")"
      ],
      "metadata": {
        "colab": {
          "base_uri": "https://localhost:8080/"
        },
        "id": "XyYl1qxJOWfE",
        "outputId": "ad118e03-248b-43e2-b1d2-727481cabec4"
      },
      "execution_count": null,
      "outputs": [
        {
          "output_type": "execute_result",
          "data": {
            "text/plain": [
              "True"
            ]
          },
          "metadata": {},
          "execution_count": 7
        }
      ]
    },
    {
      "cell_type": "code",
      "source": [
        "# Пробелы\n",
        "text_match(\"   Привет!!!   \", \"Привет\")"
      ],
      "metadata": {
        "colab": {
          "base_uri": "https://localhost:8080/"
        },
        "id": "ij4iw6MO0_Xz",
        "outputId": "13cd6178-367c-4f21-a36c-cbc6643ac757"
      },
      "execution_count": null,
      "outputs": [
        {
          "output_type": "execute_result",
          "data": {
            "text/plain": [
              "True"
            ]
          },
          "metadata": {},
          "execution_count": 8
        }
      ]
    },
    {
      "cell_type": "code",
      "source": [
        "# Лишние слова\n",
        "text_match(\"чувачок Привет, какие твои делища\", \"Привет\")"
      ],
      "metadata": {
        "colab": {
          "base_uri": "https://localhost:8080/"
        },
        "id": "ElasFTAKOW8g",
        "outputId": "e38d6818-e730-4571-9d96-d09b641e993c"
      },
      "execution_count": null,
      "outputs": [
        {
          "output_type": "execute_result",
          "data": {
            "text/plain": [
              "True"
            ]
          },
          "metadata": {},
          "execution_count": 9
        }
      ]
    },
    {
      "cell_type": "code",
      "source": [
        "# Опечатки\n",
        "text_match(\"Превет\", \"Привет\")\n"
      ],
      "metadata": {
        "colab": {
          "base_uri": "https://localhost:8080/"
        },
        "id": "d9gU6QhvOY17",
        "outputId": "09af8ff5-cbd9-424c-b4a3-7fa9753bced3"
      },
      "execution_count": null,
      "outputs": [
        {
          "output_type": "execute_result",
          "data": {
            "text/plain": [
              "True"
            ]
          },
          "metadata": {},
          "execution_count": 10
        }
      ]
    },
    {
      "cell_type": "markdown",
      "source": [
        "# Определение \"намерения\" пользователя"
      ],
      "metadata": {
        "id": "Ue7KMxxnCRty"
      }
    },
    {
      "cell_type": "code",
      "source": [
        "# Составим карты \"намерений\", которые поддерживает наш бот\n",
        "INTENTS = {\n",
        "    \"hello\": {\n",
        "        \"examples\": [\"Привет\", \"Здравствуйте\", \"Добрый день\"],\n",
        "        \"responses\": [\"Йоу\", \"Здарова\", \"Приветствую тебя, человек.\"],\n",
        "    },\n",
        "    \"bye\": {\n",
        "        \"examples\": [\"Пока\", \"До свидания\", \"Всего хорошего\"],\n",
        "        \"responses\": [\"Давайдосвиданья\", \"И вам приятного денечка\"],\n",
        "    },\n",
        "    \"how_are_you\": {\n",
        "        \"examples\": [\"Как дела\"],\n",
        "        \"responses\": [\"Функционирую нормально\"],\n",
        "    },\n",
        "    \"buy_some_pizza\": {\n",
        "        \"examples\": [\"Голоден\", \"Хочу есть\", \"Пицца\"],\n",
        "        \"responses\": [\"А вот фиг тебе\"],\n",
        "    },\n",
        "}"
      ],
      "metadata": {
        "id": "m1Y2iyVSCFLx"
      },
      "execution_count": null,
      "outputs": []
    },
    {
      "cell_type": "code",
      "source": [
        "import random\n",
        "# Функция которая находит намерение пользователя по его тексту (с помощью text_match)\n",
        "def get_intent(user_text):\n",
        "    # Для каждого интента в карте, сделать следующее:\n",
        "    for intent in INTENTS:\n",
        "        examples = INTENTS[intent][\"examples\"]\n",
        "        for example in examples:\n",
        "            if len(filter_text(example)) < 3:\n",
        "                continue\n",
        "            if text_match(user_text, example):\n",
        "                return intent # Найденное намерение подходит к польз. тексту\n",
        "    return None # Ничего не найдено\n",
        "\n",
        "# Функция возвращает случайную фразу ответа по данном интенту\n",
        "def get_random_response(intent):\n",
        "    return random.choice(INTENTS[intent][\"responses\"])"
      ],
      "metadata": {
        "id": "9kCaJFVWukEV"
      },
      "execution_count": null,
      "outputs": []
    },
    {
      "cell_type": "markdown",
      "source": [
        "# ML\n"
      ],
      "metadata": {
        "id": "hSSID1qhTRst"
      }
    },
    {
      "cell_type": "markdown",
      "source": [
        "# Классификация текстов ML-моделью\n",
        "Файл с данными: https://drive.google.com/file/d/1_L5CYGsO58zkB3LMBG73ezIEwYFD07Ed/view"
      ],
      "metadata": {
        "id": "pqqsdYVxRC4w"
      }
    },
    {
      "cell_type": "code",
      "source": [
        "import json\n",
        "\n",
        "# Взять файл и сделать с ним следующее:\n",
        "with open(\"/content/big_bot_config.json\", \"r\") as config_file:\n",
        "    data = json.load(config_file)\n",
        "\n",
        "INTENTS = data[\"intents\"]"
      ],
      "metadata": {
        "id": "IekZ2-zqRHKH"
      },
      "execution_count": null,
      "outputs": []
    },
    {
      "cell_type": "code",
      "source": [
        "print(\"Интентов загружено из файла:\", len(INTENTS))"
      ],
      "metadata": {
        "colab": {
          "base_uri": "https://localhost:8080/"
        },
        "id": "ANR0_zQX0dAK",
        "outputId": "e5cc1328-5e06-412e-9ef8-3491fdde3528"
      },
      "execution_count": null,
      "outputs": [
        {
          "output_type": "stream",
          "name": "stdout",
          "text": [
            "Интентов загружено из файла: 439\n"
          ]
        }
      ]
    },
    {
      "cell_type": "code",
      "source": [
        "# Фраза (X) - на вход\n",
        "# Интент (y) - на выход\n",
        "X = []\n",
        "y = []\n",
        "\n",
        "for intent in INTENTS:\n",
        "    examples = INTENTS[intent][\"examples\"]\n",
        "    for example in examples:\n",
        "        example = filter_text(example)\n",
        "        if len(example) < 3:\n",
        "            continue # Пропускаем текст если он слишком короткий\n",
        "        X.append(example)  # Добавляем фразу в список X\n",
        "        y.append(intent)"
      ],
      "metadata": {
        "id": "MzQAmCZk1QMl"
      },
      "execution_count": null,
      "outputs": []
    },
    {
      "cell_type": "markdown",
      "source": [
        "# Векторизация\n"
      ],
      "metadata": {
        "id": "4D_DuuDw62sF"
      }
    },
    {
      "cell_type": "code",
      "source": [
        "from sklearn.feature_extraction.text import CountVectorizer\n",
        "\n",
        "vectorizer = CountVectorizer()\n",
        "\n",
        "vectorizer.fit(X) # Обучаем векторайзер\n",
        "\n",
        "vecX = vectorizer.transform(X) # Все тексты преобразуем в вектора"
      ],
      "metadata": {
        "id": "wyIHwCc68TSU"
      },
      "execution_count": null,
      "outputs": []
    },
    {
      "cell_type": "code",
      "source": [
        "# Обучаем модель классификации\n",
        "from sklearn.ensemble import RandomForestClassifier\n",
        "\n",
        "model = RandomForestClassifier()\n",
        "model.fit(vecX, y) # Обучение модели"
      ],
      "metadata": {
        "colab": {
          "base_uri": "https://localhost:8080/"
        },
        "id": "Ppqmv7YH-nGp",
        "outputId": "45988093-45ba-4e6a-af72-4edcbe72f1fa"
      },
      "execution_count": null,
      "outputs": [
        {
          "output_type": "execute_result",
          "data": {
            "text/plain": [
              "RandomForestClassifier()"
            ]
          },
          "metadata": {},
          "execution_count": 27
        }
      ]
    },
    {
      "cell_type": "code",
      "source": [
        "# Метрика\n",
        "from sklearn.metrics import accuracy_score, f1_score\n",
        "# Интенты предсказанные моделью\n",
        "y_pred = model.predict(vecX)\n",
        "\n",
        "print(\"accuracy_score\", accuracy_score(y, y_pred)) # Сравниваем y и y_pred\n",
        "print(\"f1_score\", f1_score(y, y_pred, average=\"macro\")) # Сравниваем y и y_pred"
      ],
      "metadata": {
        "colab": {
          "base_uri": "https://localhost:8080/"
        },
        "id": "pEeSKphZAcFF",
        "outputId": "05b40a46-6cdf-4a20-88a4-0533de79743c"
      },
      "execution_count": null,
      "outputs": [
        {
          "output_type": "stream",
          "name": "stdout",
          "text": [
            "accuracy_score 0.829137294394092\n",
            "f1_score 0.7562980674891996\n"
          ]
        }
      ]
    },
    {
      "cell_type": "code",
      "source": [
        "def get_intent_ml(user_text):\n",
        "    user_text = filter_text(user_text)\n",
        "    vec_text = vectorizer.transform([user_text])\n",
        "    intent = model.predict(vec_text)[0]\n",
        "    # model.predict_proba()\n",
        "    return intent"
      ],
      "metadata": {
        "id": "PY5tkki9BgjT"
      },
      "execution_count": null,
      "outputs": []
    },
    {
      "cell_type": "code",
      "source": [
        "import pandas as pd\n",
        "proba = model.predict_proba(vectorizer.transform([\"Привет, как дела\"]))\n",
        "\n",
        "# Вывести на экран список вероятных интентов\n",
        "pd.DataFrame(columns=model.classes_, data=[proba[0]]).T.sort_values(by=0, ascending=False)"
      ],
      "metadata": {
        "colab": {
          "base_uri": "https://localhost:8080/",
          "height": 424
        },
        "id": "UryZQl4FDyKo",
        "outputId": "f49b3056-a5e8-4ecb-a5dc-75ade0f1f06b"
      },
      "execution_count": null,
      "outputs": [
        {
          "output_type": "execute_result",
          "data": {
            "text/plain": [
              "                         0\n",
              "hello             0.392639\n",
              "howareyou         0.040721\n",
              "mood              0.036090\n",
              "howAreYou         0.033672\n",
              "howdoyoudo        0.033637\n",
              "...                    ...\n",
              "fables            0.000000\n",
              "experience        0.000000\n",
              "exits             0.000000\n",
              "exams_and_quizes  0.000000\n",
              "сlosing_account   0.000000\n",
              "\n",
              "[434 rows x 1 columns]"
            ],
            "text/html": [
              "\n",
              "  <div id=\"df-3333f0aa-abbb-436d-a04e-651b2c10dd0a\">\n",
              "    <div class=\"colab-df-container\">\n",
              "      <div>\n",
              "<style scoped>\n",
              "    .dataframe tbody tr th:only-of-type {\n",
              "        vertical-align: middle;\n",
              "    }\n",
              "\n",
              "    .dataframe tbody tr th {\n",
              "        vertical-align: top;\n",
              "    }\n",
              "\n",
              "    .dataframe thead th {\n",
              "        text-align: right;\n",
              "    }\n",
              "</style>\n",
              "<table border=\"1\" class=\"dataframe\">\n",
              "  <thead>\n",
              "    <tr style=\"text-align: right;\">\n",
              "      <th></th>\n",
              "      <th>0</th>\n",
              "    </tr>\n",
              "  </thead>\n",
              "  <tbody>\n",
              "    <tr>\n",
              "      <th>hello</th>\n",
              "      <td>0.392639</td>\n",
              "    </tr>\n",
              "    <tr>\n",
              "      <th>howareyou</th>\n",
              "      <td>0.040721</td>\n",
              "    </tr>\n",
              "    <tr>\n",
              "      <th>mood</th>\n",
              "      <td>0.036090</td>\n",
              "    </tr>\n",
              "    <tr>\n",
              "      <th>howAreYou</th>\n",
              "      <td>0.033672</td>\n",
              "    </tr>\n",
              "    <tr>\n",
              "      <th>howdoyoudo</th>\n",
              "      <td>0.033637</td>\n",
              "    </tr>\n",
              "    <tr>\n",
              "      <th>...</th>\n",
              "      <td>...</td>\n",
              "    </tr>\n",
              "    <tr>\n",
              "      <th>fables</th>\n",
              "      <td>0.000000</td>\n",
              "    </tr>\n",
              "    <tr>\n",
              "      <th>experience</th>\n",
              "      <td>0.000000</td>\n",
              "    </tr>\n",
              "    <tr>\n",
              "      <th>exits</th>\n",
              "      <td>0.000000</td>\n",
              "    </tr>\n",
              "    <tr>\n",
              "      <th>exams_and_quizes</th>\n",
              "      <td>0.000000</td>\n",
              "    </tr>\n",
              "    <tr>\n",
              "      <th>сlosing_account</th>\n",
              "      <td>0.000000</td>\n",
              "    </tr>\n",
              "  </tbody>\n",
              "</table>\n",
              "<p>434 rows × 1 columns</p>\n",
              "</div>\n",
              "      <button class=\"colab-df-convert\" onclick=\"convertToInteractive('df-3333f0aa-abbb-436d-a04e-651b2c10dd0a')\"\n",
              "              title=\"Convert this dataframe to an interactive table.\"\n",
              "              style=\"display:none;\">\n",
              "        \n",
              "  <svg xmlns=\"http://www.w3.org/2000/svg\" height=\"24px\"viewBox=\"0 0 24 24\"\n",
              "       width=\"24px\">\n",
              "    <path d=\"M0 0h24v24H0V0z\" fill=\"none\"/>\n",
              "    <path d=\"M18.56 5.44l.94 2.06.94-2.06 2.06-.94-2.06-.94-.94-2.06-.94 2.06-2.06.94zm-11 1L8.5 8.5l.94-2.06 2.06-.94-2.06-.94L8.5 2.5l-.94 2.06-2.06.94zm10 10l.94 2.06.94-2.06 2.06-.94-2.06-.94-.94-2.06-.94 2.06-2.06.94z\"/><path d=\"M17.41 7.96l-1.37-1.37c-.4-.4-.92-.59-1.43-.59-.52 0-1.04.2-1.43.59L10.3 9.45l-7.72 7.72c-.78.78-.78 2.05 0 2.83L4 21.41c.39.39.9.59 1.41.59.51 0 1.02-.2 1.41-.59l7.78-7.78 2.81-2.81c.8-.78.8-2.07 0-2.86zM5.41 20L4 18.59l7.72-7.72 1.47 1.35L5.41 20z\"/>\n",
              "  </svg>\n",
              "      </button>\n",
              "      \n",
              "  <style>\n",
              "    .colab-df-container {\n",
              "      display:flex;\n",
              "      flex-wrap:wrap;\n",
              "      gap: 12px;\n",
              "    }\n",
              "\n",
              "    .colab-df-convert {\n",
              "      background-color: #E8F0FE;\n",
              "      border: none;\n",
              "      border-radius: 50%;\n",
              "      cursor: pointer;\n",
              "      display: none;\n",
              "      fill: #1967D2;\n",
              "      height: 32px;\n",
              "      padding: 0 0 0 0;\n",
              "      width: 32px;\n",
              "    }\n",
              "\n",
              "    .colab-df-convert:hover {\n",
              "      background-color: #E2EBFA;\n",
              "      box-shadow: 0px 1px 2px rgba(60, 64, 67, 0.3), 0px 1px 3px 1px rgba(60, 64, 67, 0.15);\n",
              "      fill: #174EA6;\n",
              "    }\n",
              "\n",
              "    [theme=dark] .colab-df-convert {\n",
              "      background-color: #3B4455;\n",
              "      fill: #D2E3FC;\n",
              "    }\n",
              "\n",
              "    [theme=dark] .colab-df-convert:hover {\n",
              "      background-color: #434B5C;\n",
              "      box-shadow: 0px 1px 3px 1px rgba(0, 0, 0, 0.15);\n",
              "      filter: drop-shadow(0px 1px 2px rgba(0, 0, 0, 0.3));\n",
              "      fill: #FFFFFF;\n",
              "    }\n",
              "  </style>\n",
              "\n",
              "      <script>\n",
              "        const buttonEl =\n",
              "          document.querySelector('#df-3333f0aa-abbb-436d-a04e-651b2c10dd0a button.colab-df-convert');\n",
              "        buttonEl.style.display =\n",
              "          google.colab.kernel.accessAllowed ? 'block' : 'none';\n",
              "\n",
              "        async function convertToInteractive(key) {\n",
              "          const element = document.querySelector('#df-3333f0aa-abbb-436d-a04e-651b2c10dd0a');\n",
              "          const dataTable =\n",
              "            await google.colab.kernel.invokeFunction('convertToInteractive',\n",
              "                                                     [key], {});\n",
              "          if (!dataTable) return;\n",
              "\n",
              "          const docLinkHtml = 'Like what you see? Visit the ' +\n",
              "            '<a target=\"_blank\" href=https://colab.research.google.com/notebooks/data_table.ipynb>data table notebook</a>'\n",
              "            + ' to learn more about interactive tables.';\n",
              "          element.innerHTML = '';\n",
              "          dataTable['output_type'] = 'display_data';\n",
              "          await google.colab.output.renderOutput(dataTable, element);\n",
              "          const docLink = document.createElement('div');\n",
              "          docLink.innerHTML = docLinkHtml;\n",
              "          element.appendChild(docLink);\n",
              "        }\n",
              "      </script>\n",
              "    </div>\n",
              "  </div>\n",
              "  "
            ]
          },
          "metadata": {},
          "execution_count": 31
        }
      ]
    },
    {
      "cell_type": "code",
      "source": [
        "def bot(user_text):\n",
        "    intent = get_intent(user_text)\n",
        "    if intent:\n",
        "        return get_random_response(intent)\n",
        "    intent = get_intent_ml(user_text)\n",
        "    return get_random_response(intent)"
      ],
      "metadata": {
        "id": "k_sjXgnFDQE3"
      },
      "execution_count": null,
      "outputs": []
    },
    {
      "cell_type": "markdown",
      "source": [
        "# Telegram\n"
      ],
      "metadata": {
        "id": "MMr2mDwFTVeK"
      }
    },
    {
      "cell_type": "code",
      "source": [
        "! pip install python-telegram-bot --pre"
      ],
      "metadata": {
        "id": "9hPPDSAdTYco",
        "colab": {
          "base_uri": "https://localhost:8080/"
        },
        "outputId": "aac44d45-8974-4a07-dcee-9bc91ffea78b"
      },
      "execution_count": null,
      "outputs": [
        {
          "output_type": "stream",
          "name": "stdout",
          "text": [
            "Looking in indexes: https://pypi.org/simple, https://us-python.pkg.dev/colab-wheels/public/simple/\n",
            "Requirement already satisfied: python-telegram-bot in /usr/local/lib/python3.8/dist-packages (20.0b0)\n",
            "Requirement already satisfied: httpx~=0.23.1 in /usr/local/lib/python3.8/dist-packages (from python-telegram-bot) (0.23.1)\n",
            "Requirement already satisfied: rfc3986[idna2008]<2,>=1.3 in /usr/local/lib/python3.8/dist-packages (from httpx~=0.23.1->python-telegram-bot) (1.5.0)\n",
            "Requirement already satisfied: certifi in /usr/local/lib/python3.8/dist-packages (from httpx~=0.23.1->python-telegram-bot) (2022.12.7)\n",
            "Requirement already satisfied: httpcore<0.17.0,>=0.15.0 in /usr/local/lib/python3.8/dist-packages (from httpx~=0.23.1->python-telegram-bot) (0.16.3)\n",
            "Requirement already satisfied: sniffio in /usr/local/lib/python3.8/dist-packages (from httpx~=0.23.1->python-telegram-bot) (1.3.0)\n",
            "Requirement already satisfied: h11<0.15,>=0.13 in /usr/local/lib/python3.8/dist-packages (from httpcore<0.17.0,>=0.15.0->httpx~=0.23.1->python-telegram-bot) (0.14.0)\n",
            "Requirement already satisfied: anyio<5.0,>=3.0 in /usr/local/lib/python3.8/dist-packages (from httpcore<0.17.0,>=0.15.0->httpx~=0.23.1->python-telegram-bot) (3.6.2)\n",
            "Requirement already satisfied: idna>=2.8 in /usr/local/lib/python3.8/dist-packages (from anyio<5.0,>=3.0->httpcore<0.17.0,>=0.15.0->httpx~=0.23.1->python-telegram-bot) (2.10)\n"
          ]
        }
      ]
    },
    {
      "cell_type": "code",
      "source": [
        "! pip install nest_asyncio"
      ],
      "metadata": {
        "colab": {
          "base_uri": "https://localhost:8080/"
        },
        "id": "OV0qyqVr7Bo3",
        "outputId": "5b256c4e-9368-4229-d1b9-2981c1c6c6dd"
      },
      "execution_count": null,
      "outputs": [
        {
          "output_type": "stream",
          "name": "stdout",
          "text": [
            "Looking in indexes: https://pypi.org/simple, https://us-python.pkg.dev/colab-wheels/public/simple/\n",
            "Collecting nest_asyncio\n",
            "  Downloading nest_asyncio-1.5.6-py3-none-any.whl (5.2 kB)\n",
            "Installing collected packages: nest-asyncio\n",
            "Successfully installed nest-asyncio-1.5.6\n"
          ]
        }
      ]
    },
    {
      "cell_type": "code",
      "source": [
        "import nest_asyncio\n",
        "nest_asyncio.apply()"
      ],
      "metadata": {
        "id": "mdbkAKRS8isd"
      },
      "execution_count": null,
      "outputs": []
    },
    {
      "cell_type": "code",
      "source": [
        "TOKEN=\"введите ваш токен\""
      ],
      "metadata": {
        "id": "MGDnAgZv-3Dw"
      },
      "execution_count": null,
      "outputs": []
    },
    {
      "cell_type": "code",
      "source": [
        "from telegram import Update # Обновление пришедшее к нам с серверов ТГ\n",
        "from telegram.ext import ApplicationBuilder, MessageHandler, filters\n",
        "\n",
        "# Создаем и настраиваем бот-приложение\n",
        "app = ApplicationBuilder().token(TOKEN).build()\n",
        "\n",
        "async def telegram_reply(upd: Update, ctx):\n",
        "    name = upd.message.from_user.full_name\n",
        "    user_text = upd.message.text\n",
        "    print(f\"{name}: {user_text}\")\n",
        "    reply = bot(user_text)\n",
        "    print(f\"BOT: {reply}\")\n",
        "    await upd.message.reply_text(reply)\n",
        "\n",
        "handler = MessageHandler(filters.TEXT, telegram_reply) # Создаем обработчик текстовых сообщений\n",
        "app.add_handler(handler) # Добавляем обработчик в приложение\n",
        "\n",
        "# app.run_polling # Наш код регулярно опрашивает сервер на предмет новых Апдейтов\n",
        "# app.run_webhook # Запускает веб-сервер, к которому будет подключаться сам ТГ и присылать туда апдейты\n",
        "app.run_polling()"
      ],
      "metadata": {
        "id": "ITGt7QH66ZNW"
      },
      "execution_count": null,
      "outputs": []
    },
    {
      "cell_type": "code",
      "source": [],
      "metadata": {
        "id": "3xxIjhxh6vo-"
      },
      "execution_count": null,
      "outputs": []
    }
  ]
}